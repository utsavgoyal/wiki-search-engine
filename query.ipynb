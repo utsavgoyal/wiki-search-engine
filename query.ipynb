{
 "cells": [
  {
   "cell_type": "code",
   "execution_count": 1,
   "metadata": {
    "ExecuteTime": {
     "end_time": "2020-11-11T20:06:22.478929Z",
     "start_time": "2020-11-11T20:06:21.428470Z"
    }
   },
   "outputs": [],
   "source": [
    "\n",
    "import re\n",
    "from collections import *\n",
    "import sys\n",
    "from nltk.stem.snowball import SnowballStemmer\n",
    "import os\n",
    "import time"
   ]
  },
  {
   "cell_type": "code",
   "execution_count": 2,
   "metadata": {
    "ExecuteTime": {
     "end_time": "2020-11-11T20:06:22.483916Z",
     "start_time": "2020-11-11T20:06:22.480926Z"
    }
   },
   "outputs": [],
   "source": [
    "tags = {1:'title',2:'text', 3:'category', 4 : 'infobox'}\n",
    "dic = defaultdict(float)\n"
   ]
  },
  {
   "cell_type": "code",
   "execution_count": 3,
   "metadata": {
    "ExecuteTime": {
     "end_time": "2020-11-11T20:06:22.497852Z",
     "start_time": "2020-11-11T20:06:22.484944Z"
    }
   },
   "outputs": [],
   "source": [
    "offsets = [open('offsets/title.txt','r',encoding='ISO-8859-1'),open('offsets/text.txt','r',encoding='ISO-8859-1'),open('offsets/category.txt','r',encoding='ISO-8859-1'),open('offsets/infobox.txt','r',encoding='ISO-8859-1')]"
   ]
  },
  {
   "cell_type": "code",
   "execution_count": 4,
   "metadata": {
    "ExecuteTime": {
     "end_time": "2020-11-11T20:06:22.503820Z",
     "start_time": "2020-11-11T20:06:22.498832Z"
    }
   },
   "outputs": [],
   "source": [
    "scores = [open('score/title.txt','r',encoding='ISO-8859-1'),open('score/text.txt','r',encoding='ISO-8859-1'),open('score/category.txt','r',encoding='ISO-8859-1'),open('score/infobox.txt','r',encoding='ISO-8859-1')]"
   ]
  },
  {
   "cell_type": "code",
   "execution_count": 5,
   "metadata": {
    "ExecuteTime": {
     "end_time": "2020-11-11T20:06:22.656155Z",
     "start_time": "2020-11-11T20:06:22.504816Z"
    }
   },
   "outputs": [],
   "source": [
    "title_file  = open('doc_title.txt','r',encoding='ISO-8859-1')\n",
    "doc_offset = []\n",
    "lines = title_file.readlines()\n",
    "cur =0\n",
    "for line in lines:\n",
    "    doc_offset.append(cur)\n",
    "    cur+=len(line)+1"
   ]
  },
  {
   "cell_type": "code",
   "execution_count": 6,
   "metadata": {
    "ExecuteTime": {
     "end_time": "2020-11-11T20:06:27.296791Z",
     "start_time": "2020-11-11T20:06:22.657157Z"
    }
   },
   "outputs": [],
   "source": [
    "word_pos  = [defaultdict(list) for i in range(4)]\n",
    "\n",
    "for i in range(4):\n",
    "    lines = offsets[i].readlines()\n",
    "    for line in lines:\n",
    "        temp = line.split(':')\n",
    "        word = \"\".join(temp[0:-1])\n",
    "        \n",
    "        if len(temp[-1])==0:\n",
    "            continue\n",
    "        page = int(temp[-1].strip())\n",
    "        word_pos[i][word] = page\n",
    " #   offsets[i].close()"
   ]
  },
  {
   "cell_type": "code",
   "execution_count": 7,
   "metadata": {
    "ExecuteTime": {
     "end_time": "2020-11-11T20:06:27.304891Z",
     "start_time": "2020-11-11T20:06:27.299787Z"
    }
   },
   "outputs": [],
   "source": [
    "def remove_special_characters(text):\n",
    "    # define the pattern to keep\n",
    "    pat = r'[^a-zA-z0-9.,!?/:;\\\"\\'\\s]' \n",
    "    return re.sub(pat, ' ', text)"
   ]
  },
  {
   "cell_type": "code",
   "execution_count": 8,
   "metadata": {
    "ExecuteTime": {
     "end_time": "2020-11-11T20:06:27.319243Z",
     "start_time": "2020-11-11T20:06:27.306766Z"
    }
   },
   "outputs": [],
   "source": [
    "stemmer = SnowballStemmer(language = 'english')"
   ]
  },
  {
   "cell_type": "code",
   "execution_count": 9,
   "metadata": {
    "ExecuteTime": {
     "end_time": "2020-11-11T20:06:27.328220Z",
     "start_time": "2020-11-11T20:06:27.320241Z"
    }
   },
   "outputs": [],
   "source": [
    "def tagq(words,typ):\n",
    "    \n",
    "    if typ==4:\n",
    "        for i in range(4):\n",
    "            tagq(words,i)\n",
    "        return\n",
    "    for word in words :\n",
    "        word = stemmer.stem(word.lower())\n",
    "        #word = remove_special_characters(word)\n",
    "        if word in word_pos[typ]:\n",
    "           # word = stemmer.stem(word.lower())\n",
    "            #word = remove_special_characters(word)\n",
    "            page = word_pos[typ][word]\n",
    "            scores[typ].seek(page)\n",
    "            line = scores[typ].readline()\n",
    "            line = line.split(' ')\n",
    "            for w in line[1:]:\n",
    "                if len(w)<=1:\n",
    "                    continue\n",
    "                tmp = w.split(':')\n",
    "                pg = tmp[0]\n",
    "                tfidf =float(tmp[1])\n",
    "                if pg not in dic:\n",
    "                    dic[pg]=0\n",
    "                dic[pg]+=tfidf"
   ]
  },
  {
   "cell_type": "code",
   "execution_count": 10,
   "metadata": {
    "ExecuteTime": {
     "end_time": "2020-11-11T20:06:27.336197Z",
     "start_time": "2020-11-11T20:06:27.329217Z"
    }
   },
   "outputs": [],
   "source": [
    "def process():\n",
    "    results = sorted(dic.items(),key=lambda item: item[1],reverse=True)\n",
    "    results = results[:min(10,len(results))]\n",
    "    print(results)\n",
    "    for cur in results:\n",
    "        cur = cur[0]\n",
    "        pos = doc_offset[int(cur)]\n",
    "        title_file.seek(pos)\n",
    "        title = title_file.readline().strip()\n",
    "        title = title.replace(' ','_')\n",
    "        print (\"https://en.wikipedia.org/wiki/\" + title)"
   ]
  },
  {
   "cell_type": "code",
   "execution_count": 11,
   "metadata": {
    "ExecuteTime": {
     "end_time": "2020-11-11T20:06:27.344178Z",
     "start_time": "2020-11-11T20:06:27.337195Z"
    }
   },
   "outputs": [],
   "source": [
    "def query():\n",
    "    print('Any Queries?  (y or n) \\n')\n",
    "    q = input()\n",
    "    if q=='y':\n",
    "        clock_start = time.time()\n",
    "        print('Select Query Type:')\n",
    "        print('1 -Search By Title')\n",
    "        print('2 -Search By Text')\n",
    "        print('3 -Search By Category')\n",
    "        print('4 -Search By Infobox')\n",
    "        print('5 -Widesearch')\n",
    "        typ = int(input())\n",
    "        print('Type Your Query:\\n')\n",
    "        que = input().strip('\\n').lower()\n",
    "        words = que.split(' ')\n",
    "        dic.clear()\n",
    "        tagq(words,typ-1)\n",
    "        process()\n",
    "        print (\"Query time = \" +str(time.time()-clock_start))\n",
    "        query()\n",
    "        \n",
    "    else :\n",
    "        return\n",
    "        \n",
    "        \n",
    "    \n",
    "    \n",
    "    "
   ]
  },
  {
   "cell_type": "code",
   "execution_count": 13,
   "metadata": {
    "ExecuteTime": {
     "end_time": "2020-11-11T20:06:58.497963Z",
     "start_time": "2020-11-11T20:06:50.086539Z"
    }
   },
   "outputs": [
    {
     "name": "stdout",
     "output_type": "stream",
     "text": [
      "Any Queries?  (y or n) \n",
      "\n",
      "y\n",
      "Select Query Type:\n",
      "1 -Search By Title\n",
      "2 -Search By Text\n",
      "3 -Search By Category\n",
      "4 -Search By Infobox\n",
      "5 -Widesearch\n",
      "1\n",
      "Type Your Query:\n",
      "\n",
      "algorithm\n",
      "[('187', 3.29), ('204', 3.29), ('387', 3.29), ('1199', 3.29), ('2461', 3.29), ('6412', 3.29), ('6477', 3.29), ('6494', 3.29), ('8185', 3.29), ('9604', 3.29)]\n",
      "https://en.wikipedia.org/wiki/Algorithms_(journal)\n",
      "https://en.wikipedia.org/wiki/Algorithm\n",
      "https://en.wikipedia.org/wiki/Algorithms_for_calculating_variance\n",
      "https://en.wikipedia.org/wiki/Analysis_of_algorithms\n",
      "https://en.wikipedia.org/wiki/Binary_search_algorithm\n",
      "https://en.wikipedia.org/wiki/Euclids_algorithm\n",
      "https://en.wikipedia.org/wiki/Euclidean_algorithm\n",
      "https://en.wikipedia.org/wiki/Euclidean_Algorithm\n",
      "https://en.wikipedia.org/wiki/GaussâLegendre_algorithm\n",
      "https://en.wikipedia.org/wiki/International_Data_Encryption_Algorithm\n",
      "Query time = 3.9620089530944824\n",
      "Any Queries?  (y or n) \n",
      "\n",
      "m\n"
     ]
    }
   ],
   "source": [
    "query()"
   ]
  }
 ],
 "metadata": {
  "kernelspec": {
   "display_name": "Python 3",
   "language": "python",
   "name": "python3"
  },
  "language_info": {
   "codemirror_mode": {
    "name": "ipython",
    "version": 3
   },
   "file_extension": ".py",
   "mimetype": "text/x-python",
   "name": "python",
   "nbconvert_exporter": "python",
   "pygments_lexer": "ipython3",
   "version": "3.7.6"
  }
 },
 "nbformat": 4,
 "nbformat_minor": 4
}
