{
 "cells": [
  {
   "cell_type": "code",
   "execution_count": 1,
   "metadata": {
    "ExecuteTime": {
     "end_time": "2020-11-11T13:16:40.615661Z",
     "start_time": "2020-11-11T13:16:40.603852Z"
    }
   },
   "outputs": [],
   "source": [
    "import heapq\n",
    "import math\n",
    "from heapq import heappush as push , heappop as pop\n",
    "from collections import *\n",
    "import os"
   ]
  },
  {
   "cell_type": "code",
   "execution_count": 2,
   "metadata": {
    "ExecuteTime": {
     "end_time": "2020-11-11T13:16:40.631340Z",
     "start_time": "2020-11-11T13:16:40.618388Z"
    }
   },
   "outputs": [],
   "source": [
    "tags = ['title', 'category','infobox','text']"
   ]
  },
  {
   "cell_type": "code",
   "execution_count": 3,
   "metadata": {
    "ExecuteTime": {
     "end_time": "2020-11-11T13:16:40.642997Z",
     "start_time": "2020-11-11T13:16:40.635690Z"
    }
   },
   "outputs": [],
   "source": [
    "total_pages = 360986"
   ]
  },
  {
   "cell_type": "code",
   "execution_count": 4,
   "metadata": {
    "ExecuteTime": {
     "end_time": "2020-11-11T13:16:40.660217Z",
     "start_time": "2020-11-11T13:16:40.645988Z"
    }
   },
   "outputs": [],
   "source": [
    "def writeit(tag,data): \n",
    "    offset_file_path = 'offsets/' + str(tag) + '.txt'\n",
    "    offsets_file = open(offset_file_path,'a')\n",
    "    score_file_path = 'score/' + str(tag) + '.txt'\n",
    "    score_file = open(score_file_path,'a')\n",
    "    offset = 0\n",
    "    for key in sorted(data):\n",
    "        values = data[key]\n",
    "        idf = 0\n",
    "        if len(values)>0:\n",
    "            idf = math.log10(float(total_pages)/float(len(values)))\n",
    "        curr = str(key) +' '\n",
    "        for x in values:\n",
    "            \n",
    "            s = x.split(\":\")\n",
    "            doc = s[0]\n",
    "            cnt = s[1]\n",
    "            tfidf = (1+math.log10(float(cnt)))*idf\n",
    "            tfidf = (\"%.2f\" % tfidf )\n",
    "            \n",
    "            curr += str(doc) + \":\" + str(tfidf) +' '\n",
    "            \n",
    "        offsets_file.write(str(key)+':'+str(offset) + '\\n')\n",
    "        offset+= 2+ len(curr)\n",
    "        score_file.write(str(curr))\n",
    "        score_file.write('\\n')\n",
    "\n",
    "        \n",
    "\n",
    "\n"
   ]
  },
  {
   "cell_type": "code",
   "execution_count": 5,
   "metadata": {
    "ExecuteTime": {
     "end_time": "2020-11-11T13:28:07.079379Z",
     "start_time": "2020-11-11T13:16:40.662329Z"
    },
    "scrolled": true
   },
   "outputs": [
    {
     "name": "stdout",
     "output_type": "stream",
     "text": [
      "title 0\n",
      "title 1\n",
      "title 2\n",
      "category 0\n",
      "category 1\n",
      "infobox 0\n",
      "infobox 1\n",
      "infobox 2\n",
      "infobox 3\n",
      "infobox 4\n",
      "text 0\n",
      "text 1\n",
      "text 2\n",
      "text 3\n",
      "text 4\n",
      "text 5\n",
      "text 6\n",
      "text 7\n",
      "text 8\n",
      "text 9\n",
      "text 10\n",
      "text 11\n",
      "text 12\n",
      "text 13\n",
      "text 14\n",
      "text 15\n",
      "text 16\n",
      "text 17\n",
      "text 18\n",
      "text 19\n",
      "text 20\n",
      "text 21\n",
      "text 22\n",
      "text 23\n",
      "text 24\n",
      "text 25\n",
      "text 26\n",
      "text 27\n",
      "text 28\n",
      "text 29\n",
      "text 30\n",
      "text 31\n",
      "text 32\n",
      "text 33\n",
      "text 34\n",
      "text 35\n",
      "text 36\n",
      "text 37\n",
      "text 38\n",
      "text 39\n",
      "text 40\n",
      "text 41\n",
      "text 42\n",
      "text 43\n",
      "text 44\n",
      "text 45\n",
      "text 46\n",
      "text 47\n",
      "text 48\n",
      "text 49\n",
      "text 50\n",
      "text 51\n",
      "text 52\n",
      "text 53\n",
      "text 54\n",
      "text 55\n",
      "text 56\n",
      "text 57\n",
      "text 58\n",
      "text 59\n"
     ]
    }
   ],
   "source": [
    "for tag in tags:\n",
    "    all_files ={}\n",
    "    first_lines ={}\n",
    "    path = 'final/'+ str(tag)\n",
    "    \n",
    "    all_words = defaultdict(list)\n",
    "    heap = []\n",
    "    data= defaultdict(list)\n",
    "    filenames = os.listdir(path)\n",
    "    flag = [0]*len(filenames)\n",
    "    i=0\n",
    "    for file in filenames:\n",
    "        all_files[i] = open(str(path)+ '/' +str(file),'r')\n",
    "        first_lines[i] = all_files[i].readline().split('  ')\n",
    "        #print(first_lines[i])\n",
    "        flag[i]=1\n",
    "        if first_lines[i][0] not in heap:\n",
    "            push(heap,first_lines[i][0])\n",
    "        i+=1\n",
    "    \n",
    "    \n",
    "    cnt = len(filenames)\n",
    "    cur = 0\n",
    "    no =0\n",
    "\n",
    "    while any(flag)==1:\n",
    "        top = pop(heap)\n",
    "        cur+=1\n",
    "        for i in range(len(filenames)):\n",
    "            if flag[i]:\n",
    "                if first_lines[i][0] ==top:\n",
    "                    data[top].extend(first_lines[i][1:])\n",
    "                    first_lines[i] = all_files[i].readline().split('  ')\n",
    "                    \n",
    "                    if first_lines[i][0]=='':\n",
    "                        flag[i]=0\n",
    "\n",
    "                    else:\n",
    "                        if first_lines[i][0] not in heap:\n",
    "                            push(heap,first_lines[i][0])\n",
    "                    \n",
    "\n",
    "        if cur>=50000:\n",
    "          # print(data)\n",
    "            writeit(tag,data)\n",
    "            print(tag,no)\n",
    "            data = defaultdict(list)\n",
    "            no+=1\n",
    "            cur=0\n",
    "    \n",
    "           \n",
    "    \n",
    "    if cur>0:\n",
    "        writeit(tag,data)\n",
    "        print(tag,no)\n",
    "        data = defaultdict(list)\n",
    "        no+=1\n",
    "        cur=0\n",
    "        \n",
    "        \n",
    "        \n",
    "    \n",
    "    \n",
    "    \n",
    "    "
   ]
  }
 ],
 "metadata": {
  "kernelspec": {
   "display_name": "Python 3",
   "language": "python",
   "name": "python3"
  },
  "language_info": {
   "codemirror_mode": {
    "name": "ipython",
    "version": 3
   },
   "file_extension": ".py",
   "mimetype": "text/x-python",
   "name": "python",
   "nbconvert_exporter": "python",
   "pygments_lexer": "ipython3",
   "version": "3.7.6"
  }
 },
 "nbformat": 4,
 "nbformat_minor": 4
}
